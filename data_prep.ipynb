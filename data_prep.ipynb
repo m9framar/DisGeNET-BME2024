{
 "cells": [
  {
   "cell_type": "code",
   "execution_count": 1,
   "metadata": {},
   "outputs": [],
   "source": [
    "#API_KEY = \"874fc67d-cee6-4294-b799-18e2b4e63fb8\"  #ez a mienk\n",
    "API_KEY = \"ad6669df-65b6-45f9-8e02-7ba74e788acd\"  #ez nem a mienk"
   ]
  },
  {
   "cell_type": "markdown",
   "metadata": {},
   "source": [
    "Below you can find Python and R code snippets showing how to programmatically interact with the REST API by means of YOUR_API_KEY.\n",
    "\n",
    "⇒ Query the REST API with your API key:  the code below shows how to retrieve gene-disease associations related to the gene APP amyloid beta precursor protein with NCBI ID equal to 351 (gene_ncbi_id parameter equal to 351). To this purpose we call the gene-disease associations endpoint (i.e. gda endpoint, see the REST API Interactive console for more details). We retrieve the top-100 gene-disease associations involving such gene, ordered by descending gene-disease score, by asking for the first page of results (page_number parameter equal to 0)."
   ]
  },
  {
   "cell_type": "code",
   "execution_count": 7,
   "metadata": {},
   "outputs": [
    {
     "name": "stderr",
     "output_type": "stream",
     "text": [
      "c:\\Users\\Szabi\\melytanulas\\DisGeNET-BME2024\\.venv\\lib\\site-packages\\urllib3\\connectionpool.py:1099: InsecureRequestWarning: Unverified HTTPS request is being made to host 'api.disgenet.com'. Adding certificate verification is strongly advised. See: https://urllib3.readthedocs.io/en/latest/advanced-usage.html#tls-warnings\n",
      "  warnings.warn(\n"
     ]
    },
    {
     "name": "stdout",
     "output_type": "stream",
     "text": [
      "STATUS: OK\n",
      "TOTAL NUMBER OF RESULTS: 21\n",
      "NUMBER OF RESULTS RETRIEVED BY CURRENT CALL (PAGE NUMBER 0): 21\n"
     ]
    }
   ],
   "source": [
    "import requests\n",
    "import json\n",
    "import time\n",
    "\n",
    "\n",
    "# Specify query parameters by means of a dictionary \n",
    "params = {}\n",
    "# ...retrieve disease associated to gene with NCBI ID \n",
    "#params[\"gene_ncbi_id\"] = \"351\"\n",
    "params[\"disease\"] = \"DO_987\"\n",
    "# ...retrieve the first page of results (page number 0) \n",
    "params[\"page_number\"] = \"0\"\n",
    "\n",
    "# Create a dictionary with the HTTP headers of your API call \n",
    "HTTPheadersDict = {}\n",
    "# Set the 'Authorization' HTTP header equal to API_KEY (your API key) \n",
    "HTTPheadersDict['Authorization'] = API_KEY\n",
    "# Set the 'accept' HTTP header to specify the response format: one of 'application/json', 'application/xml', 'application/csv' \n",
    "HTTPheadersDict['accept'] = 'application/json'\n",
    "\n",
    "# Query the gda summary endpoint \n",
    "response = requests.get(\"https://api.disgenet.com/api/v1/gda/summary\",\\\n",
    "                        params=params, headers=HTTPheadersDict, verify=False)\n",
    "\n",
    "# If the status code of response is 429, it means you have reached one of your query limits \n",
    "# You can retrieve the time you need to wait until doing a new query in the response headers \n",
    "if not response.ok:\n",
    "    if response.status_code == 429:\n",
    "        while response.ok is False:\n",
    "            print(\"You have reached a query limit for your user. Please wait {} seconds until next query\".format(\\\n",
    "            response.headers['x-rate-limit-retry-after-seconds']))\n",
    "            time.sleep(int(response.headers['x-rate-limit-retry-after-seconds']))\n",
    "            print(\"Your rate limit is now restored\")\n",
    "\n",
    "            # Repeat your query\n",
    "            response = requests.get(\"https://api.disgenet.com/api/v1/gda/summary\",\\\n",
    "                                    params=params, headers=HTTPheadersDict, verify=False)\n",
    "            if response.ok is True:\n",
    "                break\n",
    "            else:\n",
    "                continue\n",
    "\n",
    "# Parse response content in JSON format since we set 'accept:application/json' as HTTP header \n",
    "response_parsed = json.loads(response.text)\n",
    "print('STATUS: {}'.format(response_parsed[\"status\"]))\n",
    "print('TOTAL NUMBER OF RESULTS: {}'.format(response_parsed[\"paging\"][\"totalElements\"]))\n",
    "print('NUMBER OF RESULTS RETRIEVED BY CURRENT CALL (PAGE NUMBER {}): {}'.format(\\\n",
    "      response_parsed[\"paging\"][\"currentPageNumber\"], response_parsed[\"paging\"][\"totalElementsInPage\"]))"
   ]
  },
  {
   "cell_type": "code",
   "execution_count": 9,
   "metadata": {},
   "outputs": [
    {
     "name": "stdout",
     "output_type": "stream",
     "text": [
      "Index(['assocID', 'symbolOfGene', 'geneNcbiID', 'geneEnsemblIDs',\n",
      "       'geneNcbiType', 'geneDSI', 'geneDPI', 'genepLI', 'geneProteinStrIDs',\n",
      "       'geneProteinClassIDs', 'geneProteinClassNames', 'diseaseVocabularies',\n",
      "       'diseaseName', 'diseaseType', 'diseaseUMLSCUI', 'diseaseClasses_MSH',\n",
      "       'diseaseClasses_UMLS_ST', 'diseaseClasses_DO', 'diseaseClasses_HPO',\n",
      "       'numCTsupportingAssociation', 'numPMIDs', 'chemicalsIncludedInEvidence',\n",
      "       'numberPmidsWithChemsIncludedInEvidenceBySource', 'score',\n",
      "       'yearInitial', 'yearFinal', 'el', 'ei'],\n",
      "      dtype='object')\n",
      "   assocID symbolOfGene  geneNcbiID     geneEnsemblIDs    geneNcbiType  \\\n",
      "0  5072651          VDR        7421  [ENSG00000111424]  protein-coding   \n",
      "1  5072216           HR       55806  [ENSG00000168453]  protein-coding   \n",
      "2  5071730           AR         367  [ENSG00000169083]  protein-coding   \n",
      "3  5072450       SRD5A2        6716  [ENSG00000277893]  protein-coding   \n",
      "4  5072854        FOXN1        8456  [ENSG00000109101]  protein-coding   \n",
      "\n",
      "   geneDSI  geneDPI       genepLI  \\\n",
      "0    0.336    0.957  1.070000e-02   \n",
      "1    0.550    0.696           NaN   \n",
      "2    0.332    0.957           NaN   \n",
      "3    0.526    0.783  7.503700e-10   \n",
      "4    0.576    0.870  9.987400e-01   \n",
      "\n",
      "                              geneProteinStrIDs geneProteinClassIDs  ...  \\\n",
      "0                              [P11473, F1D8P8]      [DTO_00102000]  ...   \n",
      "1                                      [O43593]                  []  ...   \n",
      "2  [Q9NUA2, A0A087WUX9, F1D8N5, G4VV16, P10275]                  []  ...   \n",
      "3                                      [P31213]      [DTO_05007624]  ...   \n",
      "4                                      [O15353]                  []  ...   \n",
      "\n",
      "                                  diseaseClasses_HPO  \\\n",
      "0  [Abnormality of the integument (01574), Abnorm...   \n",
      "1  [Abnormality of the integument (01574), Abnorm...   \n",
      "2  [Abnormality of the integument (01574), Abnorm...   \n",
      "3  [Abnormality of the integument (01574), Abnorm...   \n",
      "4  [Abnormality of the integument (01574), Abnorm...   \n",
      "\n",
      "  numCTsupportingAssociation numPMIDs chemicalsIncludedInEvidence  \\\n",
      "0                          0        2                        None   \n",
      "1                          0        1                        None   \n",
      "2                          0        1                        None   \n",
      "3                          0        1                        None   \n",
      "4                          0        0                        None   \n",
      "\n",
      "      numberPmidsWithChemsIncludedInEvidenceBySource score yearInitial  \\\n",
      "0  [{'source': 'ALL', 'numPmids': 7}, {'source': ...  0.90      1992.0   \n",
      "1  [{'source': 'ALL', 'numPmids': 1}, {'source': ...  0.90      2006.0   \n",
      "2  [{'source': 'ALL', 'numPmids': 2}, {'source': ...  0.75      2005.0   \n",
      "3  [{'source': 'ALL', 'numPmids': 2}, {'source': ...  0.65      2007.0   \n",
      "4                                                 []  0.65         NaN   \n",
      "\n",
      "  yearFinal    el        ei  \n",
      "0    2012.0  None  0.833333  \n",
      "1    2006.0  None  0.862069  \n",
      "2    2005.0  None  1.000000  \n",
      "3    2007.0  None  0.428571  \n",
      "4       NaN  None  1.000000  \n",
      "\n",
      "[5 rows x 28 columns]\n"
     ]
    }
   ],
   "source": [
    "import pandas as pd\n",
    "\n",
    "payload = response_parsed.get('payload', [])\n",
    "\n",
    "# Convert the payload to a pandas DataFrame\n",
    "df = pd.DataFrame(payload)\n",
    "\n",
    "print(df.columns)\n",
    "print(df.head())\n"
   ]
  }
 ],
 "metadata": {
  "kernelspec": {
   "display_name": ".venv",
   "language": "python",
   "name": "python3"
  },
  "language_info": {
   "codemirror_mode": {
    "name": "ipython",
    "version": 3
   },
   "file_extension": ".py",
   "mimetype": "text/x-python",
   "name": "python",
   "nbconvert_exporter": "python",
   "pygments_lexer": "ipython3",
   "version": "3.10.11"
  }
 },
 "nbformat": 4,
 "nbformat_minor": 2
}
