{
 "cells": [
  {
   "cell_type": "code",
   "execution_count": null,
   "metadata": {},
   "outputs": [],
   "source": [
    "import pandas as pd\n",
    "import torch\n",
    "from torch_geometric.data import HeteroData"
   ]
  },
  {
   "cell_type": "code",
   "execution_count": null,
   "metadata": {},
   "outputs": [],
   "source": [
    "\n",
    "df=pd.read_csv('finalized_data.csv')"
   ]
  },
  {
   "cell_type": "code",
   "execution_count": null,
   "metadata": {},
   "outputs": [],
   "source": [
    "df['score'] = df['score'].round(2)"
   ]
  },
  {
   "cell_type": "markdown",
   "metadata": {},
   "source": [
    "Disease Specificity Index\n",
    "There are genes (or variants) that are associated with multiple diseases (e.g., TNF) while others are associated with a small set of diseases or even to a single disease. The Disease Specificity Index (DSI) is a measure of this property of the genes (and variants). It reflects if a gene (or variant) is associated to several or fewer diseases.\n",
    "\n",
    "Disease Pleiotropy Index\n",
    "The rationale is similar to the DSI, but we consider if the multiple diseases associated with the gene (or variant) are similar among them (belong to the same MeSH disease class, e.g., Cardiovascular Diseases) or are completely different diseases and belong to different disease classes."
   ]
  },
  {
   "cell_type": "code",
   "execution_count": null,
   "metadata": {},
   "outputs": [],
   "source": [
    "\n",
    "df = df.drop_duplicates()\n",
    "print(f\"Number of lines after removing duplicates: {len(df)}\")\n"
   ]
  },
  {
   "cell_type": "code",
   "execution_count": null,
   "metadata": {},
   "outputs": [],
   "source": [
    "import torch\n",
    "from torch_geometric.data import HeteroData\n",
    "\n",
    "# Assuming df is your DataFrame\n",
    "\n",
    "# Prepare gene node features using gene_index as indices\n",
    "genes = df[['gene_index', 'geneDSI', 'geneDPI']].drop_duplicates().set_index('gene_index')\n",
    "num_genes = genes.index.max() + 1  # Assuming indices start from 0\n",
    "gene_features = torch.zeros((num_genes, 2), dtype=torch.float)\n",
    "gene_features[genes.index] = torch.tensor(genes[['geneDSI', 'geneDPI']].values, dtype=torch.float)\n",
    "\n",
    "# Prepare disease nodes\n",
    "diseases = df[['disease_index']].drop_duplicates().set_index('disease_index')\n",
    "num_diseases = diseases.index.max() + 1  # Assuming indices start from 0\n",
    "\n",
    "# Prepare edge indices using existing indices\n",
    "edge_index = torch.tensor([\n",
    "    df['gene_index'].values,\n",
    "    df['disease_index'].values\n",
    "], dtype=torch.long)\n",
    "\n",
    "# Edge attributes (scores)\n",
    "edge_attr = torch.tensor(df['score'].values, dtype=torch.float).unsqueeze(1)\n",
    "\n",
    "# Create HeteroData object\n",
    "data = HeteroData()\n",
    "\n",
    "# Add gene node features\n",
    "data['gene'].x = gene_features\n",
    "\n",
    "# Set the number of disease nodes (no features)\n",
    "data['disease'].num_nodes = num_diseases\n",
    "\n",
    "# Add edges between genes and diseases with edge attributes\n",
    "data['gene', 'associates_with', 'disease'].edge_index = edge_index\n",
    "data['gene', 'associates_with', 'disease'].edge_attr = edge_attr"
   ]
  },
  {
   "cell_type": "code",
   "execution_count": 88,
   "metadata": {},
   "outputs": [
    {
     "data": {
      "text/plain": [
       "HeteroData(\n",
       "  gene={ x=[3608, 2] },\n",
       "  disease={ num_nodes=23 },\n",
       "  (gene, associates_with, disease)={\n",
       "    edge_index=[2, 5955],\n",
       "    edge_attr=[5955, 1],\n",
       "  },\n",
       "  (disease, rev_associates_with, gene)={\n",
       "    edge_index=[2, 5955],\n",
       "    edge_attr=[5955, 1],\n",
       "  }\n",
       ")"
      ]
     },
     "execution_count": 88,
     "metadata": {},
     "output_type": "execute_result"
    }
   ],
   "source": [
    "data"
   ]
  },
  {
   "cell_type": "code",
   "execution_count": null,
   "metadata": {},
   "outputs": [],
   "source": [
    "import torch_geometric.transforms as T\n",
    "# Add reverse edges to allow message passing in both directions\n",
    "# Convert the graph to undirected (adds reverse edges)\n",
    "data = T.ToUndirected()(data)\n",
    "\n",
    "# Define the edge types for splitting\n",
    "edge_types = ('gene', 'associates_with', 'disease')\n",
    "rev_edge_types = ('disease', 'rev_associates_with', 'gene')  # Reverse edge type\n",
    "\n",
    "# Perform RandomLinkSplit with corrected parameter\n",
    "transform = T.RandomLinkSplit(\n",
    "    num_val=0.1,                     # 10% for validation\n",
    "    num_test=0.1,                    # 10% for testing\n",
    "    disjoint_train_ratio=0.3,        # 30% of training edges for supervision\n",
    "    neg_sampling_ratio=2.0,          # Negative edge ratio for evaluation\n",
    "    is_undirected=True,              # Graph is undirected\n",
    "    add_negative_train_samples=False,  # Negative edges generated on-the-fly during training\n",
    "    edge_types=edge_types,\n",
    "    rev_edge_types=rev_edge_types,\n",
    ")"
   ]
  },
  {
   "cell_type": "code",
   "execution_count": null,
   "metadata": {},
   "outputs": [],
   "source": [
    "train_data, val_data, test_data = transform(data)"
   ]
  },
  {
   "cell_type": "code",
   "execution_count": 89,
   "metadata": {},
   "outputs": [
    {
     "name": "stdout",
     "output_type": "stream",
     "text": [
      "Training data:\n",
      "==============\n",
      "HeteroData(\n",
      "  gene={ x=[3608, 2] },\n",
      "  disease={ num_nodes=23 },\n",
      "  (gene, associates_with, disease)={\n",
      "    edge_index=[2, 3336],\n",
      "    edge_attr=[3336, 1],\n",
      "    edge_label=[1429],\n",
      "    edge_label_index=[2, 1429],\n",
      "  },\n",
      "  (disease, rev_associates_with, gene)={\n",
      "    edge_index=[2, 3336],\n",
      "    edge_attr=[3336, 1],\n",
      "  }\n",
      ")\n",
      "\n",
      "Validation data:\n",
      "================\n",
      "HeteroData(\n",
      "  gene={ x=[3608, 2] },\n",
      "  disease={ num_nodes=23 },\n",
      "  (gene, associates_with, disease)={\n",
      "    edge_index=[2, 4765],\n",
      "    edge_attr=[4765, 1],\n",
      "    edge_label=[1785],\n",
      "    edge_label_index=[2, 1785],\n",
      "  },\n",
      "  (disease, rev_associates_with, gene)={\n",
      "    edge_index=[2, 4765],\n",
      "    edge_attr=[4765, 1],\n",
      "  }\n",
      ")\n",
      "Training data edges (gene -> disease): 3336\n",
      "Training data edge label index size: 1429\n",
      "Training data edges (disease -> gene): 3336\n",
      "Training data edge label min: tensor(1.)\n",
      "Training data edge label max: tensor(1.)\n",
      "Validation data edges (gene -> disease): 4765\n",
      "Validation data edge label index size: 1785\n",
      "Validation data edges (disease -> gene): 4765\n",
      "Validation data edge label bincount: [1190, 595]\n"
     ]
    }
   ],
   "source": [
    "print(\"Training data:\")\n",
    "print(\"==============\")\n",
    "print(train_data)\n",
    "print()\n",
    "print(\"Validation data:\")\n",
    "print(\"================\")\n",
    "print(val_data)\n",
    "\n",
    "print(\"Training data edges (gene -> disease):\", train_data[\"gene\", \"associates_with\", \"disease\"].num_edges)\n",
    "print(\"Training data edge label index size:\", train_data[\"gene\", \"associates_with\", \"disease\"].edge_label_index.size(1))\n",
    "print(\"Training data edges (disease -> gene):\", train_data[\"disease\", \"rev_associates_with\", \"gene\"].num_edges)\n",
    "print(\"Training data edge label min:\", train_data[\"gene\", \"associates_with\", \"disease\"].edge_label.min())\n",
    "print(\"Training data edge label max:\", train_data[\"gene\", \"associates_with\", \"disease\"].edge_label.max())\n",
    "\n",
    "print(\"Validation data edges (gene -> disease):\", val_data[\"gene\", \"associates_with\", \"disease\"].num_edges)\n",
    "print(\"Validation data edge label index size:\", val_data[\"gene\", \"associates_with\", \"disease\"].edge_label_index.size(1))\n",
    "print(\"Validation data edges (disease -> gene):\", val_data[\"disease\", \"rev_associates_with\", \"gene\"].num_edges)\n",
    "print(\"Validation data edge label bincount:\", val_data[\"gene\", \"associates_with\", \"disease\"].edge_label.long().bincount().tolist())\n"
   ]
  },
  {
   "cell_type": "code",
   "execution_count": 29,
   "metadata": {},
   "outputs": [
    {
     "name": "stdout",
     "output_type": "stream",
     "text": [
      "Train Data:\n",
      "  edge_label_index shape: torch.Size([2, 1429])\n",
      "  edge_label shape: torch.Size([1429])\n",
      "  Max edge_label_index: 3606\n",
      "\n",
      "Validation Data:\n",
      "  edge_label_index shape: torch.Size([2, 1785])\n",
      "  edge_label shape: torch.Size([1785])\n",
      "  Max edge_label_index: 3600\n",
      "\n",
      "Test Data:\n",
      "  edge_label_index shape: torch.Size([2, 1785])\n",
      "  edge_label shape: torch.Size([1785])\n",
      "  Max edge_label_index: 3604\n",
      "\n"
     ]
    }
   ],
   "source": [
    "for split_name, split_data in [('Train', train_data), ('Validation', val_data), ('Test', test_data)]:\n",
    "    edge = split_data['gene', 'associates_with', 'disease']\n",
    "    print(f\"{split_name} Data:\")\n",
    "    print(f\"  edge_label_index shape: {edge.edge_label_index.shape}\")\n",
    "    print(f\"  edge_label shape: {edge.edge_label.shape}\")\n",
    "    print(f\"  Max edge_label_index: {edge.edge_label_index.max().item()}\")\n",
    "    print()"
   ]
  },
  {
   "cell_type": "code",
   "execution_count": null,
   "metadata": {},
   "outputs": [],
   "source": [
    "from torch_geometric.loader import LinkNeighborLoader\n",
    "\n",
    "# Define the edge type for link prediction\n",
    "edge_label_index = ('gene', 'associates_with', 'disease')\n",
    "\n",
    "# Batch size (adjust based on your memory constraints)\n",
    "batch_size = 128\n",
    "\n",
    "# Training Loader\n",
    "train_loader = LinkNeighborLoader(\n",
    "    data=train_data,\n",
    "    num_neighbors=[10, 5],  # Number of neighbors to sample at each hop\n",
    "    batch_size=batch_size,\n",
    "    edge_label_index=(edge_label_index, train_data[edge_label_index].edge_index),\n",
    "    edge_label=train_data[edge_label_index].edge_label,\n",
    "    neg_sampling_ratio=2.0,  # Negative samples per positive sample\n",
    "    shuffle=True,\n",
    ")\n",
    "\n",
    "# Validation Loader\n",
    "val_loader = LinkNeighborLoader(\n",
    "    data=val_data,\n",
    "    num_neighbors=[10, 5],\n",
    "    batch_size=batch_size,\n",
    "    edge_label_index=(edge_label_index, val_data[edge_label_index].edge_index),\n",
    "    edge_label=val_data[edge_label_index].edge_label,\n",
    "    neg_sampling_ratio=0.0,  # Use fixed negative samples\n",
    "    shuffle=False,\n",
    ")\n",
    "\n",
    "# Test Loader\n",
    "test_loader = LinkNeighborLoader(\n",
    "    data=test_data,\n",
    "    num_neighbors=[10, 5],\n",
    "    batch_size=batch_size,\n",
    "    edge_label_index=(edge_label_index, test_data[edge_label_index].edge_index),\n",
    "    edge_label=test_data[edge_label_index].edge_label,\n",
    "    neg_sampling_ratio=0.0,\n",
    "    shuffle=False,\n",
    ")"
   ]
  },
  {
   "cell_type": "code",
   "execution_count": null,
   "metadata": {},
   "outputs": [],
   "source": [
    "batch = next(iter(train_loader))\n",
    "print(\"Batch edge_label_index shape:\", batch['edge_label_index'].shape)\n",
    "print(\"Batch edge_label shape:\", batch['edge_label'].shape)\n",
    "print(\"Batch positive labels:\", (batch['edge_label'] == 1).sum().item())\n",
    "print(\"Batch negative labels:\", (batch['edge_label'] == 0).sum().item())"
   ]
  },
  {
   "cell_type": "markdown",
   "metadata": {},
   "source": [
    "Verification of edge_label and edge_label_index attributes in  train_data, val_data, and test_data objects:\n",
    "\n",
    "1. Check for the existence of edge_label and edge_label_index\n",
    "Ensure that both edge_label and edge_label_index are present in each split for the specified edge type."
   ]
  },
  {
   "cell_type": "code",
   "execution_count": null,
   "metadata": {},
   "outputs": [],
   "source": [
    "\n",
    "\n",
    "for split_name, split_data in [('Train', train_data), ('Validation', val_data), ('Test', test_data)]:\n",
    "    edge = split_data['gene', 'associates_with', 'disease']\n",
    "    print(f\"{split_name} Data:\")\n",
    "    print(f\"  edge_label_index exists: {'edge_label_index' in edge}\")\n",
    "    print(f\"  edge_label exists: {'edge_label' in edge}\")\n",
    "    print()"
   ]
  },
  {
   "cell_type": "markdown",
   "metadata": {},
   "source": [
    "2. Check the shapes of edge_label and edge_label_index\n",
    "\n",
    "Verify that the number of labels matches the number of edges."
   ]
  },
  {
   "cell_type": "code",
   "execution_count": null,
   "metadata": {},
   "outputs": [],
   "source": [
    "for split_name, split_data in [('Train', train_data), ('Validation', val_data), ('Test', test_data)]:\n",
    "    edge = split_data['gene', 'associates_with', 'disease']\n",
    "    if 'edge_label' in edge and 'edge_label_index' in edge:\n",
    "        num_edges = edge.edge_label_index.size(1)\n",
    "        num_labels = edge.edge_label.size(0)\n",
    "        print(f\"{split_name} Data:\")\n",
    "        print(f\"  Number of edges: {num_edges}\")\n",
    "        print(f\"  Number of labels: {num_labels}\")\n",
    "        print()"
   ]
  },
  {
   "cell_type": "markdown",
   "metadata": {},
   "source": [
    "3. Check the distribution of edge labels\n",
    "\n",
    "Count the number of positive and negative labels to ensure they are correctly assigned."
   ]
  },
  {
   "cell_type": "code",
   "execution_count": null,
   "metadata": {},
   "outputs": [],
   "source": [
    "for split_name, split_data in [('Train', train_data), ('Validation', val_data), ('Test', test_data)]:\n",
    "    edge = split_data['gene', 'associates_with', 'disease']\n",
    "    labels = edge.edge_label\n",
    "    pos_labels = (labels == 1).sum().item()\n",
    "    neg_labels = (labels == 0).sum().item()\n",
    "    print(f\"{split_name} Data:\")\n",
    "    print(f\"  Positive labels (edges): {pos_labels}\")\n",
    "    print(f\"  Negative labels (non-edges): {neg_labels}\")\n",
    "    print()"
   ]
  },
  {
   "cell_type": "markdown",
   "metadata": {},
   "source": [
    "4. Inspect a small sample of edges and labels\n",
    "\n",
    "View a few edges and their corresponding labels to manually verify correctness."
   ]
  },
  {
   "cell_type": "code",
   "execution_count": null,
   "metadata": {},
   "outputs": [],
   "source": [
    "split_data = train_data  # Replace with val_data or test_data as needed\n",
    "edge = split_data['gene', 'associates_with', 'disease']\n",
    "\n",
    "# View the first 5 edges and labels\n",
    "print(\"First 5 edges:\")\n",
    "print(edge.edge_label_index[:, :5])\n",
    "print(\"Corresponding labels:\")\n",
    "print(edge.edge_label[:5])"
   ]
  },
  {
   "cell_type": "markdown",
   "metadata": {},
   "source": [
    "5. Verify that positive edges correspond to actual connections\n",
    "\n",
    "For a few positive labels, confirm that the edges exist in original DataFrame or data object"
   ]
  },
  {
   "cell_type": "code",
   "execution_count": null,
   "metadata": {},
   "outputs": [],
   "source": [
    "# Assuming you have access to the original edge indices\n",
    "original_edges = data['gene', 'associates_with', 'disease'].edge_index\n",
    "\n",
    "# Compare with the training edges\n",
    "train_edges = train_data['gene', 'associates_with', 'disease'].edge_label_index\n",
    "\n",
    "# Check if training edges are a subset of original edges\n",
    "edge_pairs = set(map(tuple, original_edges.t().tolist()))\n",
    "train_edge_pairs = set(map(tuple, train_edges.t().tolist()))\n",
    "print(\"All training edges are in the original edges:\", train_edge_pairs.issubset(edge_pairs))"
   ]
  },
  {
   "cell_type": "markdown",
   "metadata": {},
   "source": [
    "6. Confirm that negative samples are not in the original edges\n",
    "For validation and test splits, ensure that negative samples do not exist in the actual graph"
   ]
  },
  {
   "cell_type": "code",
   "execution_count": null,
   "metadata": {},
   "outputs": [],
   "source": [
    "split_name = 'Validation'  # or 'Test'\n",
    "split_data = val_data if split_name == 'Validation' else test_data\n",
    "edge = split_data['gene', 'associates_with', 'disease']\n",
    "\n",
    "# Get negative edge indices\n",
    "neg_edge_indices = edge.edge_label_index[:, edge.edge_label == 0]\n",
    "\n",
    "# Convert to set of edge pairs\n",
    "neg_edge_pairs = set(map(tuple, neg_edge_indices.t().tolist()))\n",
    "\n",
    "# Check if any negative edges are in the original edges\n",
    "common_edges = neg_edge_pairs.intersection(edge_pairs)\n",
    "print(f\"Number of negative {split_name.lower()} edges in original edges:\", len(common_edges))"
   ]
  },
  {
   "cell_type": "markdown",
   "metadata": {},
   "source": [
    "7. Check the LinkNeighborLoader outputs\n",
    "You can also check the batches produced by the LinkNeighborLoader."
   ]
  }
 ],
 "metadata": {
  "kernelspec": {
   "display_name": ".venv",
   "language": "python",
   "name": "python3"
  },
  "language_info": {
   "codemirror_mode": {
    "name": "ipython",
    "version": 3
   },
   "file_extension": ".py",
   "mimetype": "text/x-python",
   "name": "python",
   "nbconvert_exporter": "python",
   "pygments_lexer": "ipython3",
   "version": "3.10.11"
  }
 },
 "nbformat": 4,
 "nbformat_minor": 2
}
