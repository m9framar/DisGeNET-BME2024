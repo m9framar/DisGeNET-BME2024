{
  "cells": [
    {
      "cell_type": "markdown",
      "source": [
        "Nem fut le a trainelés. A forward ciklus nem kapja meg jól az edge featuret amit passzolni kéne, vagy megkapja de nem csinál vele semmit.\n",
        "\n",
        "out csak a disease feature-öket tartalmazza, edge és genet nem!!!!!!\n",
        "\n",
        "Negatív éleket is használunk a traineléshez, azt nem tudom hogy jól-e.\n",
        "\n",
        "Edge feature-öket is kell unsqueezelni?\n",
        "\n",
        "HeteroData:\n",
        "\n",
        "-gene nodes -> DPI, DSI\n",
        "\n",
        "-disease nodes -> fatality rate (random dummy feature)\n",
        "\n",
        "-edges -> score"
      ],
      "metadata": {
        "id": "BVljHFf__Jwp"
      },
      "id": "BVljHFf__Jwp"
    },
    {
      "cell_type": "code",
      "source": [
        "# prompt: read data from disgenet_gda_summary_filtered.csv\n",
        "\n",
        "import pandas as pd\n",
        "\n",
        "# Assuming the file is in the current working directory.\n",
        "# If not, provide the correct path.\n",
        "try:\n",
        "  df = pd.read_csv('disgenet_gda_summary_filtered.csv')\n",
        "  print(df.head()) # Print the first few rows to verify\n",
        "except FileNotFoundError:\n",
        "  print(\"Error: File 'disgenet_gda_summary_filtered.csv' not found.\")\n",
        "except pd.errors.ParserError:\n",
        "  print(\"Error: Could not parse the CSV file. Please check its format.\")\n",
        "except Exception as e:\n",
        "  print(f\"An unexpected error occurred: {e}\")\n"
      ],
      "metadata": {
        "colab": {
          "base_uri": "https://localhost:8080/"
        },
        "collapsed": true,
        "id": "v5w9eqGqpVj5",
        "outputId": "eb005a9c-281b-40bd-94a3-e53510496416"
      },
      "id": "v5w9eqGqpVj5",
      "execution_count": 1,
      "outputs": [
        {
          "output_type": "stream",
          "name": "stdout",
          "text": [
            "   geneNcbiID  geneDSI  geneDPI                           diseaseName  score\n",
            "0        3630    0.254    0.957                       Type 2 Diabetes    1.0\n",
            "1        2099    0.298    0.957                         Breast Cancer    1.0\n",
            "2        2099    0.298    0.957                         Breast Cancer    1.0\n",
            "3        2064    0.298    0.957                         Breast Cancer    1.0\n",
            "4        3630    0.254    0.957  Diabetes Mellitus, Insulin-Dependent    1.0\n"
          ]
        }
      ]
    },
    {
      "cell_type": "code",
      "source": [
        "# prompt: select the unique disease Names from df\n",
        "\n",
        "unique_disease_names = df['diseaseName'].unique()\n",
        "#unique_disease_names"
      ],
      "metadata": {
        "id": "U0IvrTb9qTAG"
      },
      "id": "U0IvrTb9qTAG",
      "execution_count": 2,
      "outputs": []
    },
    {
      "cell_type": "code",
      "source": [
        "replacements = {\n",
        "    \"Alzheimer's dementia senile and presenile forms\": 'Alzheimer Disease',\n",
        "    \"familial alzheimer's disease\": 'Alzheimer Disease',\n",
        "    'AMYOTROPHIC LATERAL SCLEROSIS-PARKINSONISM/DEMENTIA COMPLEX 1': 'Parkinson Disease',\n",
        "    \"Parkinson's Disease\": 'Parkinson Disease',\n",
        "    \"Primary Parkinsonism or Parkinson's disease\": 'Parkinson Disease',\n",
        "    \"Idiopathic Parkinsonism or Parkinson's disease\": 'Parkinson Disease',\n",
        "    \"Huntington's Disease\": 'Huntington Disease',\n",
        "    'HUNTINGTON DIS JUVENILE ONSET': 'Huntington Disease',\n",
        "    \"Dementia in Huntington's disease\": 'Huntington Disease',\n",
        "    'Dystrophies, Muscular':'Duchenne Muscular Dystrophy',\n",
        "    'MUSCULAR DYSTROPHY, BECKER TYPE':'Duchenne Muscular Dystrophy',\n",
        "    'Anemia, Diamond Blackfan':'Sickle Cell Anemia',\n",
        "    'Anemia, Congenital Hypoplastic':'Sickle Cell Anemia',\n",
        "    'CARCINOMA OF BREAST':'Breast Cancer',\n",
        "    'Malignant neoplasm of lower lobe, bronchus or lung':'Lung Cancer',\n",
        "    'Malignant neoplasm of other parts of bronchus or lung':'Lung Cancer',\n",
        "    'Malignant neoplasm of middle lobe, bronchus or lung':'Lung Cancer',\n",
        "    'Malignant neoplasm of upper lobe, bronchus or lung':'Lung Cancer',\n",
        "    'CARCINOMA OF PROSTATE':'Prostate Cancer',\n",
        "    'SYSTEMIC LUPUS ERYTHEMATOSIS':'Systemic lupus erythematosus',\n",
        "    'SYSTEMIC LUPUS ERYTHEMATOSUS 16':'Systemic lupus erythematosus',\n",
        "    'Bipolar I disorder':'Bipolar Disorder',\n",
        "    'Mixed bipolar disorder, NOS':'Bipolar Disorder',\n",
        "    'Bipolar II disorder':'Bipolar Disorder',\n",
        "    'diabetes (mellitus) due to autoimmune process':'Type 1 Diabetes',\n",
        "    'diabetes (mellitus) due to immune mediated pancreatic islet beta-cell destruction':'Type 1 Diabetes',\n",
        "    'Diabetes Mellitus, Insulin-Dependent':'Type 1 Diabetes',\n",
        "    'ketosis prone diabetes':'Type 2 Diabetes',\n",
        "    'idiopathic diabetes (mellitus)':'Type 2 Diabetes',\n",
        "    'Insulin-resistant diabetes mellitus':'Type 2 Diabetes',\n",
        "    'NIDDM1':'Type 2 Diabetes',\n",
        "    'CRC': 'Colorectal Cancer',\n",
        "    'Malignant neoplasm of colon': 'Colorectal Cancer',\n",
        "    'Malignant neoplasm of large intestine': 'Colorectal Cancer',\n",
        "    'Congenital hypothyroidism':'Hypothyroidism',\n",
        "    'secondary hypothyroidism (diagnosis)':'Hypothyroidism',\n",
        "    'Primary hypothyroidism':'Hypothyroidism',\n",
        "    'central hypothyroidism':'Hypothyroidism'\n",
        "}\n",
        "\n",
        "# Use the replace method with the dictionary\n",
        "df['diseaseName'] = df['diseaseName'].replace(replacements)\n",
        "\n",
        "unique_disease_names = df['diseaseName'].unique()\n",
        "unique_disease_names"
      ],
      "metadata": {
        "colab": {
          "base_uri": "https://localhost:8080/"
        },
        "collapsed": true,
        "id": "mxzrSPc9wqYJ",
        "outputId": "08316cc8-8e01-419b-ebb7-8c296f6d02ce"
      },
      "id": "mxzrSPc9wqYJ",
      "execution_count": 3,
      "outputs": [
        {
          "output_type": "execute_result",
          "data": {
            "text/plain": [
              "array(['Type 2 Diabetes', 'Breast Cancer', 'Type 1 Diabetes',\n",
              "       'Alzheimer Disease', 'Parkinson Disease', 'Cystic Fibrosis',\n",
              "       'Huntington Disease', 'Colorectal Cancer',\n",
              "       'Amyotrophic Lateral Sclerosis (ALS)',\n",
              "       'Duchenne Muscular Dystrophy', 'Rheumatoid arthritis',\n",
              "       'Frontotemporal dementia', 'Epilepsies', 'Schizophrenias',\n",
              "       'Cardiovascular Diseases', 'Bipolar Disorder',\n",
              "       'Systemic lupus erythematosus', 'Sickle Cell Anemia',\n",
              "       'Hypothyroidism', 'Lung Cancer', 'Prostate Cancer', 'PPND',\n",
              "       'Manic Disorders'], dtype=object)"
            ]
          },
          "metadata": {},
          "execution_count": 3
        }
      ]
    },
    {
      "cell_type": "code",
      "source": [
        "# prompt: Eliminate duplicate rows in df\n",
        "\n",
        "df = df.drop_duplicates()\n",
        "df"
      ],
      "metadata": {
        "colab": {
          "base_uri": "https://localhost:8080/",
          "height": 423
        },
        "id": "yNdvJEJL7dL7",
        "outputId": "ce713a19-ca21-4c0e-ae74-a708243578c9"
      },
      "id": "yNdvJEJL7dL7",
      "execution_count": 4,
      "outputs": [
        {
          "output_type": "execute_result",
          "data": {
            "text/plain": [
              "      geneNcbiID  geneDSI  geneDPI        diseaseName  score\n",
              "0           3630    0.254    0.957    Type 2 Diabetes    1.0\n",
              "1           2099    0.298    0.957      Breast Cancer    1.0\n",
              "3           2064    0.298    0.957      Breast Cancer    1.0\n",
              "4           3630    0.254    0.957    Type 1 Diabetes    1.0\n",
              "5           4137    0.351    0.957  Alzheimer Disease    1.0\n",
              "...          ...      ...      ...                ...    ...\n",
              "6408       23233    0.664    0.478     Schizophrenias    0.4\n",
              "6409      389207    0.751    0.261     Schizophrenias    0.4\n",
              "6410       10667    0.572    0.826     Schizophrenias    0.4\n",
              "6411      200424    0.533    0.913     Schizophrenias    0.4\n",
              "6412      221692    0.570    0.870     Schizophrenias    0.4\n",
              "\n",
              "[5958 rows x 5 columns]"
            ],
            "text/html": [
              "\n",
              "  <div id=\"df-df24cd37-d160-4fa6-8538-886cffed0211\" class=\"colab-df-container\">\n",
              "    <div>\n",
              "<style scoped>\n",
              "    .dataframe tbody tr th:only-of-type {\n",
              "        vertical-align: middle;\n",
              "    }\n",
              "\n",
              "    .dataframe tbody tr th {\n",
              "        vertical-align: top;\n",
              "    }\n",
              "\n",
              "    .dataframe thead th {\n",
              "        text-align: right;\n",
              "    }\n",
              "</style>\n",
              "<table border=\"1\" class=\"dataframe\">\n",
              "  <thead>\n",
              "    <tr style=\"text-align: right;\">\n",
              "      <th></th>\n",
              "      <th>geneNcbiID</th>\n",
              "      <th>geneDSI</th>\n",
              "      <th>geneDPI</th>\n",
              "      <th>diseaseName</th>\n",
              "      <th>score</th>\n",
              "    </tr>\n",
              "  </thead>\n",
              "  <tbody>\n",
              "    <tr>\n",
              "      <th>0</th>\n",
              "      <td>3630</td>\n",
              "      <td>0.254</td>\n",
              "      <td>0.957</td>\n",
              "      <td>Type 2 Diabetes</td>\n",
              "      <td>1.0</td>\n",
              "    </tr>\n",
              "    <tr>\n",
              "      <th>1</th>\n",
              "      <td>2099</td>\n",
              "      <td>0.298</td>\n",
              "      <td>0.957</td>\n",
              "      <td>Breast Cancer</td>\n",
              "      <td>1.0</td>\n",
              "    </tr>\n",
              "    <tr>\n",
              "      <th>3</th>\n",
              "      <td>2064</td>\n",
              "      <td>0.298</td>\n",
              "      <td>0.957</td>\n",
              "      <td>Breast Cancer</td>\n",
              "      <td>1.0</td>\n",
              "    </tr>\n",
              "    <tr>\n",
              "      <th>4</th>\n",
              "      <td>3630</td>\n",
              "      <td>0.254</td>\n",
              "      <td>0.957</td>\n",
              "      <td>Type 1 Diabetes</td>\n",
              "      <td>1.0</td>\n",
              "    </tr>\n",
              "    <tr>\n",
              "      <th>5</th>\n",
              "      <td>4137</td>\n",
              "      <td>0.351</td>\n",
              "      <td>0.957</td>\n",
              "      <td>Alzheimer Disease</td>\n",
              "      <td>1.0</td>\n",
              "    </tr>\n",
              "    <tr>\n",
              "      <th>...</th>\n",
              "      <td>...</td>\n",
              "      <td>...</td>\n",
              "      <td>...</td>\n",
              "      <td>...</td>\n",
              "      <td>...</td>\n",
              "    </tr>\n",
              "    <tr>\n",
              "      <th>6408</th>\n",
              "      <td>23233</td>\n",
              "      <td>0.664</td>\n",
              "      <td>0.478</td>\n",
              "      <td>Schizophrenias</td>\n",
              "      <td>0.4</td>\n",
              "    </tr>\n",
              "    <tr>\n",
              "      <th>6409</th>\n",
              "      <td>389207</td>\n",
              "      <td>0.751</td>\n",
              "      <td>0.261</td>\n",
              "      <td>Schizophrenias</td>\n",
              "      <td>0.4</td>\n",
              "    </tr>\n",
              "    <tr>\n",
              "      <th>6410</th>\n",
              "      <td>10667</td>\n",
              "      <td>0.572</td>\n",
              "      <td>0.826</td>\n",
              "      <td>Schizophrenias</td>\n",
              "      <td>0.4</td>\n",
              "    </tr>\n",
              "    <tr>\n",
              "      <th>6411</th>\n",
              "      <td>200424</td>\n",
              "      <td>0.533</td>\n",
              "      <td>0.913</td>\n",
              "      <td>Schizophrenias</td>\n",
              "      <td>0.4</td>\n",
              "    </tr>\n",
              "    <tr>\n",
              "      <th>6412</th>\n",
              "      <td>221692</td>\n",
              "      <td>0.570</td>\n",
              "      <td>0.870</td>\n",
              "      <td>Schizophrenias</td>\n",
              "      <td>0.4</td>\n",
              "    </tr>\n",
              "  </tbody>\n",
              "</table>\n",
              "<p>5958 rows × 5 columns</p>\n",
              "</div>\n",
              "    <div class=\"colab-df-buttons\">\n",
              "\n",
              "  <div class=\"colab-df-container\">\n",
              "    <button class=\"colab-df-convert\" onclick=\"convertToInteractive('df-df24cd37-d160-4fa6-8538-886cffed0211')\"\n",
              "            title=\"Convert this dataframe to an interactive table.\"\n",
              "            style=\"display:none;\">\n",
              "\n",
              "  <svg xmlns=\"http://www.w3.org/2000/svg\" height=\"24px\" viewBox=\"0 -960 960 960\">\n",
              "    <path d=\"M120-120v-720h720v720H120Zm60-500h600v-160H180v160Zm220 220h160v-160H400v160Zm0 220h160v-160H400v160ZM180-400h160v-160H180v160Zm440 0h160v-160H620v160ZM180-180h160v-160H180v160Zm440 0h160v-160H620v160Z\"/>\n",
              "  </svg>\n",
              "    </button>\n",
              "\n",
              "  <style>\n",
              "    .colab-df-container {\n",
              "      display:flex;\n",
              "      gap: 12px;\n",
              "    }\n",
              "\n",
              "    .colab-df-convert {\n",
              "      background-color: #E8F0FE;\n",
              "      border: none;\n",
              "      border-radius: 50%;\n",
              "      cursor: pointer;\n",
              "      display: none;\n",
              "      fill: #1967D2;\n",
              "      height: 32px;\n",
              "      padding: 0 0 0 0;\n",
              "      width: 32px;\n",
              "    }\n",
              "\n",
              "    .colab-df-convert:hover {\n",
              "      background-color: #E2EBFA;\n",
              "      box-shadow: 0px 1px 2px rgba(60, 64, 67, 0.3), 0px 1px 3px 1px rgba(60, 64, 67, 0.15);\n",
              "      fill: #174EA6;\n",
              "    }\n",
              "\n",
              "    .colab-df-buttons div {\n",
              "      margin-bottom: 4px;\n",
              "    }\n",
              "\n",
              "    [theme=dark] .colab-df-convert {\n",
              "      background-color: #3B4455;\n",
              "      fill: #D2E3FC;\n",
              "    }\n",
              "\n",
              "    [theme=dark] .colab-df-convert:hover {\n",
              "      background-color: #434B5C;\n",
              "      box-shadow: 0px 1px 3px 1px rgba(0, 0, 0, 0.15);\n",
              "      filter: drop-shadow(0px 1px 2px rgba(0, 0, 0, 0.3));\n",
              "      fill: #FFFFFF;\n",
              "    }\n",
              "  </style>\n",
              "\n",
              "    <script>\n",
              "      const buttonEl =\n",
              "        document.querySelector('#df-df24cd37-d160-4fa6-8538-886cffed0211 button.colab-df-convert');\n",
              "      buttonEl.style.display =\n",
              "        google.colab.kernel.accessAllowed ? 'block' : 'none';\n",
              "\n",
              "      async function convertToInteractive(key) {\n",
              "        const element = document.querySelector('#df-df24cd37-d160-4fa6-8538-886cffed0211');\n",
              "        const dataTable =\n",
              "          await google.colab.kernel.invokeFunction('convertToInteractive',\n",
              "                                                    [key], {});\n",
              "        if (!dataTable) return;\n",
              "\n",
              "        const docLinkHtml = 'Like what you see? Visit the ' +\n",
              "          '<a target=\"_blank\" href=https://colab.research.google.com/notebooks/data_table.ipynb>data table notebook</a>'\n",
              "          + ' to learn more about interactive tables.';\n",
              "        element.innerHTML = '';\n",
              "        dataTable['output_type'] = 'display_data';\n",
              "        await google.colab.output.renderOutput(dataTable, element);\n",
              "        const docLink = document.createElement('div');\n",
              "        docLink.innerHTML = docLinkHtml;\n",
              "        element.appendChild(docLink);\n",
              "      }\n",
              "    </script>\n",
              "  </div>\n",
              "\n",
              "\n",
              "<div id=\"df-c85ce587-5faf-4220-a69e-f6684360d6d9\">\n",
              "  <button class=\"colab-df-quickchart\" onclick=\"quickchart('df-c85ce587-5faf-4220-a69e-f6684360d6d9')\"\n",
              "            title=\"Suggest charts\"\n",
              "            style=\"display:none;\">\n",
              "\n",
              "<svg xmlns=\"http://www.w3.org/2000/svg\" height=\"24px\"viewBox=\"0 0 24 24\"\n",
              "     width=\"24px\">\n",
              "    <g>\n",
              "        <path d=\"M19 3H5c-1.1 0-2 .9-2 2v14c0 1.1.9 2 2 2h14c1.1 0 2-.9 2-2V5c0-1.1-.9-2-2-2zM9 17H7v-7h2v7zm4 0h-2V7h2v10zm4 0h-2v-4h2v4z\"/>\n",
              "    </g>\n",
              "</svg>\n",
              "  </button>\n",
              "\n",
              "<style>\n",
              "  .colab-df-quickchart {\n",
              "      --bg-color: #E8F0FE;\n",
              "      --fill-color: #1967D2;\n",
              "      --hover-bg-color: #E2EBFA;\n",
              "      --hover-fill-color: #174EA6;\n",
              "      --disabled-fill-color: #AAA;\n",
              "      --disabled-bg-color: #DDD;\n",
              "  }\n",
              "\n",
              "  [theme=dark] .colab-df-quickchart {\n",
              "      --bg-color: #3B4455;\n",
              "      --fill-color: #D2E3FC;\n",
              "      --hover-bg-color: #434B5C;\n",
              "      --hover-fill-color: #FFFFFF;\n",
              "      --disabled-bg-color: #3B4455;\n",
              "      --disabled-fill-color: #666;\n",
              "  }\n",
              "\n",
              "  .colab-df-quickchart {\n",
              "    background-color: var(--bg-color);\n",
              "    border: none;\n",
              "    border-radius: 50%;\n",
              "    cursor: pointer;\n",
              "    display: none;\n",
              "    fill: var(--fill-color);\n",
              "    height: 32px;\n",
              "    padding: 0;\n",
              "    width: 32px;\n",
              "  }\n",
              "\n",
              "  .colab-df-quickchart:hover {\n",
              "    background-color: var(--hover-bg-color);\n",
              "    box-shadow: 0 1px 2px rgba(60, 64, 67, 0.3), 0 1px 3px 1px rgba(60, 64, 67, 0.15);\n",
              "    fill: var(--button-hover-fill-color);\n",
              "  }\n",
              "\n",
              "  .colab-df-quickchart-complete:disabled,\n",
              "  .colab-df-quickchart-complete:disabled:hover {\n",
              "    background-color: var(--disabled-bg-color);\n",
              "    fill: var(--disabled-fill-color);\n",
              "    box-shadow: none;\n",
              "  }\n",
              "\n",
              "  .colab-df-spinner {\n",
              "    border: 2px solid var(--fill-color);\n",
              "    border-color: transparent;\n",
              "    border-bottom-color: var(--fill-color);\n",
              "    animation:\n",
              "      spin 1s steps(1) infinite;\n",
              "  }\n",
              "\n",
              "  @keyframes spin {\n",
              "    0% {\n",
              "      border-color: transparent;\n",
              "      border-bottom-color: var(--fill-color);\n",
              "      border-left-color: var(--fill-color);\n",
              "    }\n",
              "    20% {\n",
              "      border-color: transparent;\n",
              "      border-left-color: var(--fill-color);\n",
              "      border-top-color: var(--fill-color);\n",
              "    }\n",
              "    30% {\n",
              "      border-color: transparent;\n",
              "      border-left-color: var(--fill-color);\n",
              "      border-top-color: var(--fill-color);\n",
              "      border-right-color: var(--fill-color);\n",
              "    }\n",
              "    40% {\n",
              "      border-color: transparent;\n",
              "      border-right-color: var(--fill-color);\n",
              "      border-top-color: var(--fill-color);\n",
              "    }\n",
              "    60% {\n",
              "      border-color: transparent;\n",
              "      border-right-color: var(--fill-color);\n",
              "    }\n",
              "    80% {\n",
              "      border-color: transparent;\n",
              "      border-right-color: var(--fill-color);\n",
              "      border-bottom-color: var(--fill-color);\n",
              "    }\n",
              "    90% {\n",
              "      border-color: transparent;\n",
              "      border-bottom-color: var(--fill-color);\n",
              "    }\n",
              "  }\n",
              "</style>\n",
              "\n",
              "  <script>\n",
              "    async function quickchart(key) {\n",
              "      const quickchartButtonEl =\n",
              "        document.querySelector('#' + key + ' button');\n",
              "      quickchartButtonEl.disabled = true;  // To prevent multiple clicks.\n",
              "      quickchartButtonEl.classList.add('colab-df-spinner');\n",
              "      try {\n",
              "        const charts = await google.colab.kernel.invokeFunction(\n",
              "            'suggestCharts', [key], {});\n",
              "      } catch (error) {\n",
              "        console.error('Error during call to suggestCharts:', error);\n",
              "      }\n",
              "      quickchartButtonEl.classList.remove('colab-df-spinner');\n",
              "      quickchartButtonEl.classList.add('colab-df-quickchart-complete');\n",
              "    }\n",
              "    (() => {\n",
              "      let quickchartButtonEl =\n",
              "        document.querySelector('#df-c85ce587-5faf-4220-a69e-f6684360d6d9 button');\n",
              "      quickchartButtonEl.style.display =\n",
              "        google.colab.kernel.accessAllowed ? 'block' : 'none';\n",
              "    })();\n",
              "  </script>\n",
              "</div>\n",
              "\n",
              "  <div id=\"id_6721e827-1bb8-4f22-accf-2b28ec8e8a50\">\n",
              "    <style>\n",
              "      .colab-df-generate {\n",
              "        background-color: #E8F0FE;\n",
              "        border: none;\n",
              "        border-radius: 50%;\n",
              "        cursor: pointer;\n",
              "        display: none;\n",
              "        fill: #1967D2;\n",
              "        height: 32px;\n",
              "        padding: 0 0 0 0;\n",
              "        width: 32px;\n",
              "      }\n",
              "\n",
              "      .colab-df-generate:hover {\n",
              "        background-color: #E2EBFA;\n",
              "        box-shadow: 0px 1px 2px rgba(60, 64, 67, 0.3), 0px 1px 3px 1px rgba(60, 64, 67, 0.15);\n",
              "        fill: #174EA6;\n",
              "      }\n",
              "\n",
              "      [theme=dark] .colab-df-generate {\n",
              "        background-color: #3B4455;\n",
              "        fill: #D2E3FC;\n",
              "      }\n",
              "\n",
              "      [theme=dark] .colab-df-generate:hover {\n",
              "        background-color: #434B5C;\n",
              "        box-shadow: 0px 1px 3px 1px rgba(0, 0, 0, 0.15);\n",
              "        filter: drop-shadow(0px 1px 2px rgba(0, 0, 0, 0.3));\n",
              "        fill: #FFFFFF;\n",
              "      }\n",
              "    </style>\n",
              "    <button class=\"colab-df-generate\" onclick=\"generateWithVariable('df')\"\n",
              "            title=\"Generate code using this dataframe.\"\n",
              "            style=\"display:none;\">\n",
              "\n",
              "  <svg xmlns=\"http://www.w3.org/2000/svg\" height=\"24px\"viewBox=\"0 0 24 24\"\n",
              "       width=\"24px\">\n",
              "    <path d=\"M7,19H8.4L18.45,9,17,7.55,7,17.6ZM5,21V16.75L18.45,3.32a2,2,0,0,1,2.83,0l1.4,1.43a1.91,1.91,0,0,1,.58,1.4,1.91,1.91,0,0,1-.58,1.4L9.25,21ZM18.45,9,17,7.55Zm-12,3A5.31,5.31,0,0,0,4.9,8.1,5.31,5.31,0,0,0,1,6.5,5.31,5.31,0,0,0,4.9,4.9,5.31,5.31,0,0,0,6.5,1,5.31,5.31,0,0,0,8.1,4.9,5.31,5.31,0,0,0,12,6.5,5.46,5.46,0,0,0,6.5,12Z\"/>\n",
              "  </svg>\n",
              "    </button>\n",
              "    <script>\n",
              "      (() => {\n",
              "      const buttonEl =\n",
              "        document.querySelector('#id_6721e827-1bb8-4f22-accf-2b28ec8e8a50 button.colab-df-generate');\n",
              "      buttonEl.style.display =\n",
              "        google.colab.kernel.accessAllowed ? 'block' : 'none';\n",
              "\n",
              "      buttonEl.onclick = () => {\n",
              "        google.colab.notebook.generateWithVariable('df');\n",
              "      }\n",
              "      })();\n",
              "    </script>\n",
              "  </div>\n",
              "\n",
              "    </div>\n",
              "  </div>\n"
            ],
            "application/vnd.google.colaboratory.intrinsic+json": {
              "type": "dataframe",
              "variable_name": "df",
              "summary": "{\n  \"name\": \"df\",\n  \"rows\": 5958,\n  \"fields\": [\n    {\n      \"column\": \"geneNcbiID\",\n      \"properties\": {\n        \"dtype\": \"number\",\n        \"std\": 13591507,\n        \"min\": 1,\n        \"max\": 130066253,\n        \"num_unique_values\": 3608,\n        \"samples\": [\n          113,\n          23503,\n          6249\n        ],\n        \"semantic_type\": \"\",\n        \"description\": \"\"\n      }\n    },\n    {\n      \"column\": \"geneDSI\",\n      \"properties\": {\n        \"dtype\": \"number\",\n        \"std\": 0.14252973537214073,\n        \"min\": 0.226,\n        \"max\": 1.0,\n        \"num_unique_values\": 371,\n        \"samples\": [\n          0.557,\n          0.441,\n          0.439\n        ],\n        \"semantic_type\": \"\",\n        \"description\": \"\"\n      }\n    },\n    {\n      \"column\": \"geneDPI\",\n      \"properties\": {\n        \"dtype\": \"number\",\n        \"std\": 0.21420795235714074,\n        \"min\": 0.043,\n        \"max\": 1.0,\n        \"num_unique_values\": 23,\n        \"samples\": [\n          0.435,\n          0.652,\n          0.957\n        ],\n        \"semantic_type\": \"\",\n        \"description\": \"\"\n      }\n    },\n    {\n      \"column\": \"diseaseName\",\n      \"properties\": {\n        \"dtype\": \"category\",\n        \"num_unique_values\": 23,\n        \"samples\": [\n          \"Bipolar Disorder\",\n          \"Duchenne Muscular Dystrophy\",\n          \"Type 2 Diabetes\"\n        ],\n        \"semantic_type\": \"\",\n        \"description\": \"\"\n      }\n    },\n    {\n      \"column\": \"score\",\n      \"properties\": {\n        \"dtype\": \"number\",\n        \"std\": 0.16985511250137078,\n        \"min\": 0.4,\n        \"max\": 1.0,\n        \"num_unique_values\": 19,\n        \"samples\": [\n          1.0,\n          0.8500000000000001,\n          0.7\n        ],\n        \"semantic_type\": \"\",\n        \"description\": \"\"\n      }\n    }\n  ]\n}"
            }
          },
          "metadata": {},
          "execution_count": 4
        }
      ]
    },
    {
      "cell_type": "code",
      "source": [
        "# prompt: enumerate all disease names in a new variable diseases also genes\n",
        "\n",
        "diseases = list(unique_disease_names)\n",
        "genes = df['geneNcbiID'].unique()"
      ],
      "metadata": {
        "id": "UWqSDadp7qit"
      },
      "id": "UWqSDadp7qit",
      "execution_count": 5,
      "outputs": []
    },
    {
      "cell_type": "code",
      "source": [
        "!pip install torch-geometric\n",
        "from torch_geometric.data import HeteroData\n",
        "import torch"
      ],
      "metadata": {
        "colab": {
          "base_uri": "https://localhost:8080/"
        },
        "collapsed": true,
        "id": "D7FsX78b87rE",
        "outputId": "24bf6202-12e4-45bb-dd90-e714a2beb881"
      },
      "id": "D7FsX78b87rE",
      "execution_count": 6,
      "outputs": [
        {
          "output_type": "stream",
          "name": "stdout",
          "text": [
            "Collecting torch-geometric\n",
            "  Downloading torch_geometric-2.6.1-py3-none-any.whl.metadata (63 kB)\n",
            "\u001b[?25l     \u001b[90m━━━━━━━━━━━━━━━━━━━━━━━━━━━━━━━━━━━━━━━━\u001b[0m \u001b[32m0.0/63.1 kB\u001b[0m \u001b[31m?\u001b[0m eta \u001b[36m-:--:--\u001b[0m\r\u001b[2K     \u001b[90m━━━━━━━━━━━━━━━━━━━━━━━━━━━━━━━━━━━━━━━━\u001b[0m \u001b[32m63.1/63.1 kB\u001b[0m \u001b[31m1.9 MB/s\u001b[0m eta \u001b[36m0:00:00\u001b[0m\n",
            "\u001b[?25hRequirement already satisfied: aiohttp in /usr/local/lib/python3.10/dist-packages (from torch-geometric) (3.10.10)\n",
            "Requirement already satisfied: fsspec in /usr/local/lib/python3.10/dist-packages (from torch-geometric) (2024.10.0)\n",
            "Requirement already satisfied: jinja2 in /usr/local/lib/python3.10/dist-packages (from torch-geometric) (3.1.4)\n",
            "Requirement already satisfied: numpy in /usr/local/lib/python3.10/dist-packages (from torch-geometric) (1.26.4)\n",
            "Requirement already satisfied: psutil>=5.8.0 in /usr/local/lib/python3.10/dist-packages (from torch-geometric) (5.9.5)\n",
            "Requirement already satisfied: pyparsing in /usr/local/lib/python3.10/dist-packages (from torch-geometric) (3.2.0)\n",
            "Requirement already satisfied: requests in /usr/local/lib/python3.10/dist-packages (from torch-geometric) (2.32.3)\n",
            "Requirement already satisfied: tqdm in /usr/local/lib/python3.10/dist-packages (from torch-geometric) (4.66.6)\n",
            "Requirement already satisfied: aiohappyeyeballs>=2.3.0 in /usr/local/lib/python3.10/dist-packages (from aiohttp->torch-geometric) (2.4.3)\n",
            "Requirement already satisfied: aiosignal>=1.1.2 in /usr/local/lib/python3.10/dist-packages (from aiohttp->torch-geometric) (1.3.1)\n",
            "Requirement already satisfied: attrs>=17.3.0 in /usr/local/lib/python3.10/dist-packages (from aiohttp->torch-geometric) (24.2.0)\n",
            "Requirement already satisfied: frozenlist>=1.1.1 in /usr/local/lib/python3.10/dist-packages (from aiohttp->torch-geometric) (1.5.0)\n",
            "Requirement already satisfied: multidict<7.0,>=4.5 in /usr/local/lib/python3.10/dist-packages (from aiohttp->torch-geometric) (6.1.0)\n",
            "Requirement already satisfied: yarl<2.0,>=1.12.0 in /usr/local/lib/python3.10/dist-packages (from aiohttp->torch-geometric) (1.17.0)\n",
            "Requirement already satisfied: async-timeout<5.0,>=4.0 in /usr/local/lib/python3.10/dist-packages (from aiohttp->torch-geometric) (4.0.3)\n",
            "Requirement already satisfied: MarkupSafe>=2.0 in /usr/local/lib/python3.10/dist-packages (from jinja2->torch-geometric) (3.0.2)\n",
            "Requirement already satisfied: charset-normalizer<4,>=2 in /usr/local/lib/python3.10/dist-packages (from requests->torch-geometric) (3.4.0)\n",
            "Requirement already satisfied: idna<4,>=2.5 in /usr/local/lib/python3.10/dist-packages (from requests->torch-geometric) (3.10)\n",
            "Requirement already satisfied: urllib3<3,>=1.21.1 in /usr/local/lib/python3.10/dist-packages (from requests->torch-geometric) (2.2.3)\n",
            "Requirement already satisfied: certifi>=2017.4.17 in /usr/local/lib/python3.10/dist-packages (from requests->torch-geometric) (2024.8.30)\n",
            "Requirement already satisfied: typing-extensions>=4.1.0 in /usr/local/lib/python3.10/dist-packages (from multidict<7.0,>=4.5->aiohttp->torch-geometric) (4.12.2)\n",
            "Requirement already satisfied: propcache>=0.2.0 in /usr/local/lib/python3.10/dist-packages (from yarl<2.0,>=1.12.0->aiohttp->torch-geometric) (0.2.0)\n",
            "Downloading torch_geometric-2.6.1-py3-none-any.whl (1.1 MB)\n",
            "\u001b[2K   \u001b[90m━━━━━━━━━━━━━━━━━━━━━━━━━━━━━━━━━━━━━━━━\u001b[0m \u001b[32m1.1/1.1 MB\u001b[0m \u001b[31m20.4 MB/s\u001b[0m eta \u001b[36m0:00:00\u001b[0m\n",
            "\u001b[?25hInstalling collected packages: torch-geometric\n",
            "Successfully installed torch-geometric-2.6.1\n"
          ]
        }
      ]
    },
    {
      "cell_type": "code",
      "source": [
        "gene_to_index = {gene_id: idx for idx, gene_id in enumerate(df['geneNcbiID'].unique())}\n",
        "disease_to_index = {disease: idx for idx, disease in enumerate(df['diseaseName'].unique())}"
      ],
      "metadata": {
        "id": "Qy_qgT_1_btz"
      },
      "id": "Qy_qgT_1_btz",
      "execution_count": 7,
      "outputs": []
    },
    {
      "cell_type": "code",
      "source": [
        "# Convert genes and diseases to their respective indices\n",
        "df['gene_index'] = df['geneNcbiID'].map(gene_to_index)\n",
        "df['disease_index'] = df['diseaseName'].map(disease_to_index)\n",
        "\n",
        "# Create edge index tensor\n",
        "edge_index = torch.tensor(df[['gene_index', 'disease_index']].values).t().contiguous()"
      ],
      "metadata": {
        "id": "X1ml5HIxTjbd"
      },
      "id": "X1ml5HIxTjbd",
      "execution_count": 8,
      "outputs": []
    },
    {
      "cell_type": "code",
      "source": [
        "# Initialize the HeteroData object\n",
        "data = HeteroData()\n",
        "\n",
        "# Add node features for 'gene' nodes\n",
        "gene_features = df.groupby('gene_index')[['geneDSI','geneDPI']].first().sort_index().values\n",
        "data['gene'].x = torch.tensor(gene_features, dtype=torch.float)\n",
        "\n",
        "\n",
        "# Add disease nodes with calculated lethality features\n",
        "disease_features = ([0.1000, 0.3000, 0.1500, 0.7000, 0.3000, 0.8000, 0.8000, 0.4000, 0.9000,\n",
        "        0.8500, 0.1000, 0.7500, 0.0500, 0.2000, 0.7000, 0.1500, 0.2500, 0.4000,\n",
        "        0.0500, 0.8500, 0.3000, 0.0100, 0.0500])\n",
        "data['disease'].x = torch.tensor(disease_features, dtype=torch.float).unsqueeze(1)\n",
        "\n",
        "# Add edges and edge features\n",
        "data['gene', 'associated_with', 'disease'].edge_index = edge_index\n",
        "data['gene', 'associated_with', 'disease'].edge_attr = torch.tensor(df['score'].values, dtype=torch.float)#.unsqueeze(1)"
      ],
      "metadata": {
        "id": "1qVLnOdiTm-q"
      },
      "id": "1qVLnOdiTm-q",
      "execution_count": 112,
      "outputs": []
    },
    {
      "cell_type": "code",
      "source": [
        "data"
      ],
      "metadata": {
        "colab": {
          "base_uri": "https://localhost:8080/"
        },
        "id": "bD0ZPDvIFal8",
        "outputId": "09f64cb3-90a6-4518-f644-241bc87dd516"
      },
      "id": "bD0ZPDvIFal8",
      "execution_count": 94,
      "outputs": [
        {
          "output_type": "execute_result",
          "data": {
            "text/plain": [
              "HeteroData(\n",
              "  gene={ x=[3608, 2] },\n",
              "  disease={ x=[23, 1] },\n",
              "  (gene, associated_with, disease)={\n",
              "    edge_index=[2, 5958],\n",
              "    edge_attr=[5958],\n",
              "  }\n",
              ")"
            ]
          },
          "metadata": {},
          "execution_count": 94
        }
      ]
    },
    {
      "cell_type": "code",
      "source": [
        "# prompt: Create another GNN using convolutional layer GraphConv that is capable of passing edge features for this bipartite graph\n",
        "\n",
        "from torch_geometric.nn import HeteroConv, SAGEConv, GraphConv\n",
        "\n",
        "# Define the GNN model\n",
        "class HeteroGNN(torch.nn.Module):\n",
        "    def __init__(self, hidden_channels):\n",
        "        super().__init__()\n",
        "\n",
        "        # Define a dictionary of convolutional layers for each edge type\n",
        "        self.convs = HeteroConv({\n",
        "            ('gene', 'associated_with', 'disease'): GraphConv((-1, -1), hidden_channels, aggr='mean'),\n",
        "        }, aggr='sum')\n",
        "        self.lin = torch.nn.Linear(hidden_channels, 1) # Output layer\n",
        "\n",
        "    def forward(self, x_dict, edge_index_dict, edge_weight_dict):\n",
        "        # Perform message passing\n",
        "        x_dict = self.convs(x_dict, edge_index_dict, edge_weight_dict=edge_weight_dict)\n",
        "\n",
        "        # Get the output for disease nodes\n",
        "        x_disease = x_dict['disease']\n",
        "\n",
        "        # Apply a linear transformation to the output\n",
        "        return self.lin(x_disease)\n"
      ],
      "metadata": {
        "id": "RlI9ExYh58vZ"
      },
      "id": "RlI9ExYh58vZ",
      "execution_count": 155,
      "outputs": []
    },
    {
      "cell_type": "code",
      "source": [
        "import random\n",
        "\n",
        "def create_train_test_split(data, split_ratio=0.8):\n",
        "    # Get the edge indices for the 'gene' -> 'disease' relationship\n",
        "    edge_index = data['gene', 'associated_with', 'disease'].edge_index\n",
        "\n",
        "    # Randomly shuffle the edge indices\n",
        "    num_edges = edge_index.shape[1]\n",
        "    indices = list(range(num_edges))\n",
        "    random.shuffle(indices)\n",
        "\n",
        "    # Split into train and test sets\n",
        "    train_size = int(split_ratio * num_edges)\n",
        "    train_indices = indices[:train_size]\n",
        "    test_indices = indices[train_size:]\n",
        "\n",
        "    # Create masks for train and test edges\n",
        "    train_mask = torch.zeros(num_edges, dtype=torch.bool)\n",
        "    test_mask = torch.zeros(num_edges, dtype=torch.bool)\n",
        "\n",
        "    # Set the train and test masks\n",
        "    train_mask[train_indices] = 1\n",
        "    test_mask[test_indices] = 1\n",
        "\n",
        "    # Assign the masks to the data object\n",
        "    data['gene', 'associated_with', 'disease'].train_mask = train_mask\n",
        "    data['gene', 'associated_with', 'disease'].test_mask = test_mask\n",
        "\n",
        "    return data\n",
        "\n",
        "# Example usage:\n",
        "data = create_train_test_split(data)"
      ],
      "metadata": {
        "id": "jvDdQXKFiEHZ"
      },
      "id": "jvDdQXKFiEHZ",
      "execution_count": 113,
      "outputs": []
    },
    {
      "cell_type": "code",
      "source": [
        "print(data['gene', 'associated_with', 'disease'].edge_attr)"
      ],
      "metadata": {
        "colab": {
          "base_uri": "https://localhost:8080/"
        },
        "id": "sLEyw_ebDuXD",
        "outputId": "6da5f3bb-1082-454e-abb1-ba313cb1c09b"
      },
      "id": "sLEyw_ebDuXD",
      "execution_count": 151,
      "outputs": [
        {
          "output_type": "stream",
          "name": "stdout",
          "text": [
            "tensor([1.0000, 1.0000, 1.0000,  ..., 0.4000, 0.4000, 0.4000])\n"
          ]
        }
      ]
    },
    {
      "cell_type": "code",
      "source": [
        "# Check the first few edges\n",
        "#print(\"First few gene-disease edges:\\n\", data['gene', 'associated_with', 'disease'].train_mask[:20])\n",
        "\n",
        "# Check specific gene node features\n",
        "#print(\"First gene node features:\\n\", data['gene'].x[:5])"
      ],
      "metadata": {
        "collapsed": true,
        "id": "08q5tdLloXwR"
      },
      "id": "08q5tdLloXwR",
      "execution_count": 12,
      "outputs": []
    },
    {
      "cell_type": "code",
      "source": [
        "import torch.optim as optim\n",
        "from torch_geometric.utils import negative_sampling\n",
        "\n",
        "# Example usage\n",
        "model = HeteroGNN(hidden_channels=64)\n",
        "\n",
        "\n",
        "optimizer = optim.Adam(model.parameters(), lr=0.01)\n",
        "criterion = torch.nn.BCEWithLogitsLoss()  # Binary cross-entropy for link prediction\n",
        "\n",
        "def train(data):\n",
        "    model.train()\n",
        "    optimizer.zero_grad()\n",
        "    # Assuming you have your data in the 'data' object\n",
        "    out = model(data.x_dict, data.edge_index_dict, edge_weight_dict={\n",
        "        ('gene', 'associated_with', 'disease'): data['gene', 'associated_with', 'disease'].edge_attr\n",
        "    })\n",
        "\n",
        "    # Select positive edges based on the train mask\n",
        "    # Extract edge_index and train_mask\n",
        "    edge_index = data['gene', 'associated_with', 'disease'].edge_index\n",
        "    train_mask = data['gene', 'associated_with', 'disease'].train_mask\n",
        "\n",
        "    # Use train_mask to select only the edges where the mask is True\n",
        "    pos_edge_index = edge_index[:, train_mask.bool()]\n",
        "\n",
        "    print(\"pos_edge_index shape:\", pos_edge_index.shape)\n",
        "    print(\"out\", out)\n",
        "\n",
        "    pos_pred = (out['gene'][pos_edge_index[0]] * out['disease'][pos_edge_index[1]]).sum(dim=-1)\n",
        "\n",
        "    # Negative edges (sampled)\n",
        "    neg_edge_index = negative_sampling(\n",
        "        edge_index=pos_edge_index,\n",
        "        num_nodes=(data['gene'].num_nodes, data['disease'].num_nodes),\n",
        "        num_neg_samples=pos_edge_index.size(1)\n",
        "    )\n",
        "    neg_pred = (out['gene'][neg_edge_index[0]] * out['disease'][neg_edge_index[1]]).sum(dim=-1)\n",
        "\n",
        "    # Compute loss\n",
        "    loss = criterion(pos_pred, torch.ones_like(pos_pred))\n",
        "    loss += criterion(neg_pred, torch.zeros_like(neg_pred))\n",
        "    loss.backward()\n",
        "    optimizer.step()\n",
        "    return loss.item()"
      ],
      "metadata": {
        "id": "3XIL_kSRbVDm",
        "colab": {
          "base_uri": "https://localhost:8080/"
        },
        "outputId": "e51019ca-f700-486b-bb1d-e96558af7921"
      },
      "id": "3XIL_kSRbVDm",
      "execution_count": 165,
      "outputs": [
        {
          "output_type": "stream",
          "name": "stderr",
          "text": [
            "/usr/local/lib/python3.10/dist-packages/torch_geometric/nn/conv/hetero_conv.py:76: UserWarning: There exist node types ({'gene'}) whose representations do not get updated during message passing as they do not occur as destination type in any edge type. This may lead to unexpected behavior.\n",
            "  warnings.warn(\n"
          ]
        }
      ]
    },
    {
      "cell_type": "code",
      "source": [
        "data"
      ],
      "metadata": {
        "colab": {
          "base_uri": "https://localhost:8080/"
        },
        "id": "xH2vJsM0FD68",
        "outputId": "567afb72-a4a5-4fad-f7db-b0c87ba45f26"
      },
      "id": "xH2vJsM0FD68",
      "execution_count": 110,
      "outputs": [
        {
          "output_type": "execute_result",
          "data": {
            "text/plain": [
              "HeteroData(\n",
              "  gene={ x=[3608, 2] },\n",
              "  disease={ x=[23] },\n",
              "  (gene, associated_with, disease)={\n",
              "    edge_index=[2, 5958],\n",
              "    edge_attr=[5958, 1],\n",
              "    train_mask=[5958],\n",
              "    test_mask=[5958],\n",
              "  }\n",
              ")"
            ]
          },
          "metadata": {},
          "execution_count": 110
        }
      ]
    },
    {
      "cell_type": "code",
      "source": [
        "model.convs(data.x_dict, data.edge_index_dict)"
      ],
      "metadata": {
        "colab": {
          "base_uri": "https://localhost:8080/"
        },
        "id": "8beDGZ_mEgTY",
        "outputId": "872ce5e5-0210-44d8-8fc5-00346cfdd198"
      },
      "id": "8beDGZ_mEgTY",
      "execution_count": 160,
      "outputs": [
        {
          "output_type": "execute_result",
          "data": {
            "text/plain": [
              "{'disease': tensor([[ 0.2460, -0.7931, -0.4426,  ..., -0.3759, -0.5072, -0.2086],\n",
              "         [ 0.0135, -0.8206, -0.5589,  ..., -0.1316, -0.4454, -0.1782],\n",
              "         [ 0.2218, -0.8537, -0.5201,  ..., -0.3844, -0.5561, -0.2260],\n",
              "         ...,\n",
              "         [ 0.0565, -0.8887, -0.6202,  ..., -0.2197, -0.5270, -0.2100],\n",
              "         [ 0.3298, -0.7501, -0.3695,  ..., -0.4558, -0.4974, -0.2024],\n",
              "         [ 0.2806, -0.7488, -0.3797,  ..., -0.3884, -0.4778, -0.1988]],\n",
              "        grad_fn=<AddBackward0>)}"
            ]
          },
          "metadata": {},
          "execution_count": 160
        }
      ]
    },
    {
      "cell_type": "code",
      "source": [
        "from sklearn.metrics import roc_auc_score\n",
        "\n",
        "@torch.no_grad()\n",
        "def test(data):\n",
        "    model.eval()\n",
        "    out = model(data)\n",
        "\n",
        "    # Positive and negative edges as in train function\n",
        "    # Extract edge_index and train_mask\n",
        "    edge_index = data['gene', 'associated_with', 'disease'].edge_index\n",
        "    train_mask = data['gene', 'associated_with', 'disease'].test_mask\n",
        "\n",
        "    # Use train_mask to select only the edges where the mask is True\n",
        "    pos_edge_index = edge_index[:, train_mask.bool()]\n",
        "    pos_pred = (out['gene'][pos_edge_index[0]] * out['disease'][pos_edge_index[1]]).sum(dim=-1)\n",
        "\n",
        "    neg_edge_index = negative_sampling(\n",
        "        edge_index=pos_edge_index, num_nodes=(data['gene'].num_nodes, data['disease'].num_nodes),\n",
        "        num_neg_samples=pos_edge_index.size(1)\n",
        "    )\n",
        "    neg_pred = (out['gene'][neg_edge_index[0]] * out['disease'][neg_edge_index[1]]).sum(dim=-1)\n",
        "\n",
        "    # Compute AUC\n",
        "    y_true = torch.cat([torch.ones(pos_pred.size(0)), torch.zeros(neg_pred.size(0))], dim=0)\n",
        "    y_score = torch.cat([pos_pred, neg_pred], dim=0)\n",
        "    auc = roc_auc_score(y_true.cpu(), y_score.cpu())\n",
        "    return auc"
      ],
      "metadata": {
        "id": "cPJm0gUjs4eI"
      },
      "id": "cPJm0gUjs4eI",
      "execution_count": 125,
      "outputs": []
    },
    {
      "cell_type": "code",
      "source": [
        "for epoch in range(1, 101):\n",
        "    loss = train(data)\n",
        "    if epoch % 10 == 0:\n",
        "        auc = test(data)\n",
        "        print(f\"Epoch: {epoch:03d}, Loss: {loss:.4f}, AUC: {auc:.4f}\")"
      ],
      "metadata": {
        "colab": {
          "base_uri": "https://localhost:8080/",
          "height": 766
        },
        "id": "WSrzIliQAOj4",
        "outputId": "237dbf92-94e8-4140-8363-bbbe6778b622"
      },
      "id": "WSrzIliQAOj4",
      "execution_count": 166,
      "outputs": [
        {
          "output_type": "stream",
          "name": "stdout",
          "text": [
            "pos_edge_index shape: torch.Size([2, 4766])\n",
            "out tensor([[ 0.1965],\n",
            "        [ 0.1482],\n",
            "        [ 0.1877],\n",
            "        [ 0.0464],\n",
            "        [ 0.1473],\n",
            "        [ 0.0250],\n",
            "        [ 0.0232],\n",
            "        [ 0.1259],\n",
            "        [-0.0072],\n",
            "        [ 0.0058],\n",
            "        [ 0.2011],\n",
            "        [ 0.0340],\n",
            "        [ 0.2105],\n",
            "        [ 0.1720],\n",
            "        [ 0.0526],\n",
            "        [ 0.1880],\n",
            "        [ 0.1601],\n",
            "        [ 0.1233],\n",
            "        [ 0.2120],\n",
            "        [ 0.0183],\n",
            "        [ 0.1483],\n",
            "        [ 0.2295],\n",
            "        [ 0.2210]], grad_fn=<AddmmBackward0>)\n"
          ]
        },
        {
          "output_type": "error",
          "ename": "IndexError",
          "evalue": "too many indices for tensor of dimension 2",
          "traceback": [
            "\u001b[0;31m---------------------------------------------------------------------------\u001b[0m",
            "\u001b[0;31mIndexError\u001b[0m                                Traceback (most recent call last)",
            "\u001b[0;32m<ipython-input-166-5d6823cbac0e>\u001b[0m in \u001b[0;36m<cell line: 1>\u001b[0;34m()\u001b[0m\n\u001b[1;32m      1\u001b[0m \u001b[0;32mfor\u001b[0m \u001b[0mepoch\u001b[0m \u001b[0;32min\u001b[0m \u001b[0mrange\u001b[0m\u001b[0;34m(\u001b[0m\u001b[0;36m1\u001b[0m\u001b[0;34m,\u001b[0m \u001b[0;36m101\u001b[0m\u001b[0;34m)\u001b[0m\u001b[0;34m:\u001b[0m\u001b[0;34m\u001b[0m\u001b[0;34m\u001b[0m\u001b[0m\n\u001b[0;32m----> 2\u001b[0;31m     \u001b[0mloss\u001b[0m \u001b[0;34m=\u001b[0m \u001b[0mtrain\u001b[0m\u001b[0;34m(\u001b[0m\u001b[0mdata\u001b[0m\u001b[0;34m)\u001b[0m\u001b[0;34m\u001b[0m\u001b[0;34m\u001b[0m\u001b[0m\n\u001b[0m\u001b[1;32m      3\u001b[0m     \u001b[0;32mif\u001b[0m \u001b[0mepoch\u001b[0m \u001b[0;34m%\u001b[0m \u001b[0;36m10\u001b[0m \u001b[0;34m==\u001b[0m \u001b[0;36m0\u001b[0m\u001b[0;34m:\u001b[0m\u001b[0;34m\u001b[0m\u001b[0;34m\u001b[0m\u001b[0m\n\u001b[1;32m      4\u001b[0m         \u001b[0mauc\u001b[0m \u001b[0;34m=\u001b[0m \u001b[0mtest\u001b[0m\u001b[0;34m(\u001b[0m\u001b[0mdata\u001b[0m\u001b[0;34m)\u001b[0m\u001b[0;34m\u001b[0m\u001b[0;34m\u001b[0m\u001b[0m\n\u001b[1;32m      5\u001b[0m         \u001b[0mprint\u001b[0m\u001b[0;34m(\u001b[0m\u001b[0;34mf\"Epoch: {epoch:03d}, Loss: {loss:.4f}, AUC: {auc:.4f}\"\u001b[0m\u001b[0;34m)\u001b[0m\u001b[0;34m\u001b[0m\u001b[0;34m\u001b[0m\u001b[0m\n",
            "\u001b[0;32m<ipython-input-165-8546ba192a51>\u001b[0m in \u001b[0;36mtrain\u001b[0;34m(data)\u001b[0m\n\u001b[1;32m     28\u001b[0m     \u001b[0mprint\u001b[0m\u001b[0;34m(\u001b[0m\u001b[0;34m\"out\"\u001b[0m\u001b[0;34m,\u001b[0m \u001b[0mout\u001b[0m\u001b[0;34m)\u001b[0m\u001b[0;34m\u001b[0m\u001b[0;34m\u001b[0m\u001b[0m\n\u001b[1;32m     29\u001b[0m \u001b[0;34m\u001b[0m\u001b[0m\n\u001b[0;32m---> 30\u001b[0;31m     \u001b[0mpos_pred\u001b[0m \u001b[0;34m=\u001b[0m \u001b[0;34m(\u001b[0m\u001b[0mout\u001b[0m\u001b[0;34m[\u001b[0m\u001b[0;34m'gene'\u001b[0m\u001b[0;34m]\u001b[0m\u001b[0;34m[\u001b[0m\u001b[0mpos_edge_index\u001b[0m\u001b[0;34m[\u001b[0m\u001b[0;36m0\u001b[0m\u001b[0;34m]\u001b[0m\u001b[0;34m]\u001b[0m \u001b[0;34m*\u001b[0m \u001b[0mout\u001b[0m\u001b[0;34m[\u001b[0m\u001b[0;34m'disease'\u001b[0m\u001b[0;34m]\u001b[0m\u001b[0;34m[\u001b[0m\u001b[0mpos_edge_index\u001b[0m\u001b[0;34m[\u001b[0m\u001b[0;36m1\u001b[0m\u001b[0;34m]\u001b[0m\u001b[0;34m]\u001b[0m\u001b[0;34m)\u001b[0m\u001b[0;34m.\u001b[0m\u001b[0msum\u001b[0m\u001b[0;34m(\u001b[0m\u001b[0mdim\u001b[0m\u001b[0;34m=\u001b[0m\u001b[0;34m-\u001b[0m\u001b[0;36m1\u001b[0m\u001b[0;34m)\u001b[0m\u001b[0;34m\u001b[0m\u001b[0;34m\u001b[0m\u001b[0m\n\u001b[0m\u001b[1;32m     31\u001b[0m \u001b[0;34m\u001b[0m\u001b[0m\n\u001b[1;32m     32\u001b[0m     \u001b[0;31m# Negative edges (sampled)\u001b[0m\u001b[0;34m\u001b[0m\u001b[0;34m\u001b[0m\u001b[0m\n",
            "\u001b[0;31mIndexError\u001b[0m: too many indices for tensor of dimension 2"
          ]
        }
      ]
    }
  ],
  "metadata": {
    "kernelspec": {
      "display_name": "Python 3 (ipykernel)",
      "language": "python",
      "name": "python3"
    },
    "language_info": {
      "codemirror_mode": {
        "name": "ipython",
        "version": 3
      },
      "file_extension": ".py",
      "mimetype": "text/x-python",
      "name": "python",
      "nbconvert_exporter": "python",
      "pygments_lexer": "ipython3",
      "version": "3.9.7"
    },
    "colab": {
      "provenance": []
    }
  },
  "nbformat": 4,
  "nbformat_minor": 5
}